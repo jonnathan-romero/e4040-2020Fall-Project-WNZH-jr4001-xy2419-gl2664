{
 "cells": [
  {
   "cell_type": "markdown",
   "metadata": {},
   "source": [
    "Autoencoder. Just for illustration purpose. Copy necessary codes to DL_project_modeling_v3 to run."
   ]
  },
  {
   "cell_type": "code",
   "execution_count": null,
   "metadata": {},
   "outputs": [],
   "source": [
    "import tensorflow as tf\n",
    "from tensorflow.keras.layers import LSTM, Dense, Concatenate, Input, Dropout, BatchNormalization\n",
    "from tensorflow.keras.callbacks import EarlyStopping, ModelCheckpoint,ReduceLROnPlateau\n",
    "import gc"
   ]
  },
  {
   "cell_type": "code",
   "execution_count": null,
   "metadata": {},
   "outputs": [],
   "source": [
    "'''Autoencoder. Features of the whole time period are fed here (do not need rolling as is done in LSTM+MLP training)'''\n",
    "ENCODING_DIM=30 # encoding dim less than 20 may encounder greater difficulty coverging in training\n",
    "\n",
    "inputs=Input(shape=(58, ))\n",
    "\n",
    "encoded_layer1=Dense(64, \n",
    "                     activation=tf.keras.layers.LeakyReLU(alpha=0.2), \n",
    "                     kernel_initializer = tf.keras.initializers.RandomNormal(mean=0., stddev=0.05))\n",
    "encoded_layer2=Dense(ENCODING_DIM, \n",
    "                     activation=tf.keras.layers.LeakyReLU(alpha=0.2), \n",
    "                     # Leaky RuLU causes smoother convergence, though ReLU generates better sparsity property\n",
    "                     kernel_initializer = tf.keras.initializers.RandomNormal(mean=0., stddev=0.05),\n",
    "                     # Surprisingly parameters in initializer makes a significant difference in training performance\n",
    "                     activity_regularizer=tf.keras.regularizers.l1(10e-4))  # add sparsity\n",
    "\n",
    "decoded_layer1=Dense(64, \n",
    "                     activation=tf.keras.layers.LeakyReLU(alpha=0.2),\n",
    "                     kernel_initializer = tf.keras.initializers.RandomNormal(mean=0., stddev=0.05))\n",
    "\n",
    "decoded_layer2=Dense(58, \n",
    "                     activation='linear', # could add non-linear activation function, but here linear turns out best\n",
    "                     kernel_initializer = tf.keras.initializers.RandomNormal(mean=0., stddev=0.05))\n",
    "\n",
    "\n",
    "encoded=encoded_layer2(encoded_layer1(inputs))\n",
    "outputs=decoded_layer2(decoded_layer1(encoded))\n",
    "\n",
    "autoencoder=tf.keras.Model(inputs=inputs, outputs=outputs)\n",
    "\n",
    "encoder=tf.keras.Model(inputs=inputs, outputs=encoded)\n",
    "\n",
    "encoded_inputs=Input(shape=ENCODING_DIM)\n",
    "decoder=tf.keras.Model(inputs=encoded_inputs, outputs=decoded_layer2(decoded_layer1(encoded_inputs)))\n",
    "\n"
   ]
  },
  {
   "cell_type": "code",
   "execution_count": null,
   "metadata": {},
   "outputs": [],
   "source": [
    "x_train_ae=df[cross_section_cols] # we do NOT encode dummy features representing sector, or time-series data\n",
    "\n",
    "opt=tf.keras.optimizers.RMSprop( # RMSprop is best. Adam is good sometimes. Others have difficulty converging\n",
    "learning_rate=0.05)\n",
    "\n",
    "autoencoder.compile(\n",
    "    optimizer=opt, loss='mse', metrics=['mse','binary_crossentropy']\n",
    ")\n",
    "reduce_lr_loss = ReduceLROnPlateau(monitor='loss', factor=0.5, patience=2, verbose=1, min_delta=1e-3, mode='min')\n",
    "# whole sample is very large. small patience suffices\n",
    "earlyStopping = EarlyStopping(monitor='loss', patience=5, verbose=0, min_delta=1e-4, mode='min')\n",
    "\n",
    "history_encoder=autoencoder.fit(\n",
    "    x=x_train_ae, y=x_train_ae, batch_size=256, epochs=80, verbose=1, shuffle=True,\n",
    "    callbacks=[reduce_lr_loss, earlyStopping],\n",
    "    validation_split=0.2\n",
    ")\n",
    "\n",
    "transformed=encoder(x_train_ae) # This is the encoded features\n",
    "gc.collect()"
   ]
  },
  {
   "cell_type": "code",
   "execution_count": null,
   "metadata": {},
   "outputs": [],
   "source": [
    "print(np.mean((autoencoder(x_train_ae)-x_train_ae)**2))\n",
    "\n",
    "# This is just the MSE. Should be around 0.025~0.027 for the above configuration."
   ]
  },
  {
   "cell_type": "code",
   "execution_count": null,
   "metadata": {},
   "outputs": [],
   "source": [
    "'''Model 2: LSTM + MLP + autoencoder'''\n",
    "time_series_inputs = Input(shape=(12,1))\n",
    "cross_sectional_inputs = Input(shape=(43,)) # 43 comes from 30 encoded features + 13 sector dummies\n",
    "\n",
    "h1_rets=LSTM(units=50, return_sequences=True)(time_series_inputs)\n",
    "time_series_output=LSTM(units=30, return_sequences=False)(h1_rets) \n",
    "\n",
    "combined_features = Concatenate()([cross_sectional_inputs, time_series_output])\n",
    "\n",
    "h1=Dense(128, activation=tf.keras.layers.LeakyReLU(alpha=0.1))(combined_features) # Seems leaky ReLU performs slightly better?\n",
    "h2=Dense(64, activation=tf.keras.layers.LeakyReLU(alpha=0.1))(h1)\n",
    "h3=Dense(32, activation=tf.keras.layers.LeakyReLU(alpha=0.1))(h2)\n",
    "outputs=Dense(1, activation='sigmoid')(h3)\n",
    "\n",
    "hybrid_model=tf.keras.Model(inputs=[cross_sectional_inputs,time_series_inputs], outputs=outputs)\n",
    "\n",
    "opt=tf.keras.optimizers.Adam(\n",
    "    learning_rate=0.005,\n",
    ")\n",
    "hybrid_model.compile(\n",
    "    optimizer=opt, loss='mse',metrics=['binary_crossentropy','mean_squared_error','mean_absolute_error','mean_absolute_percentage_error']\n",
    ")\n"
   ]
  },
  {
   "cell_type": "code",
   "execution_count": null,
   "metadata": {},
   "outputs": [],
   "source": [
    "start_date='1971-01-31'\n",
    "end_date='1981-01-31'\n",
    "test_end_date='1981-02-28'\n",
    "\n",
    "mask_train=(df[['DATE']]>=start_date) & (df[['DATE']]<end_date)\n",
    "mask_test=(df[['DATE']]>=end_date) & (df[['DATE']]<test_end_date)\n",
    "\n",
    "\n",
    "x = [np.hstack([transformed,df[sector_cols].values]), # x[0].shape=(N*(30+13)), x[1].shape=N*12\n",
    "     df[time_series_cols].values] \n",
    "y = df[Y].values[:,0]\n",
    "\n",
    "x_train, x_test, y_train, y_test=[i[mask_train['DATE'],:] for i in x], [i[mask_test['DATE'],:] for i in x], y[mask_train['DATE']], y[mask_test['DATE']]\n",
    "\n",
    "earlyStopping = EarlyStopping(monitor='val_loss', patience=10, verbose=0, mode='min', restore_best_weights=True)\n",
    "mcp_save = ModelCheckpoint('models/example3_hybrid_reg_model.hdf5', save_best_only=True, monitor='val_loss', mode='min')\n",
    "reduce_lr_loss = ReduceLROnPlateau(monitor='val_loss', factor=0.25, patience=5, verbose=1, min_delta=1e-4, mode='min')\n",
    "\n",
    "history_hybrid=hybrid_model.fit(\n",
    "    x=x_train, y=y_train, batch_size=256, epochs=100, verbose=1, \n",
    "    callbacks=[earlyStopping, mcp_save, reduce_lr_loss],\n",
    "    validation_split=0.1\n",
    ")\n",
    "gc.collect()"
   ]
  }
 ],
 "metadata": {
  "kernelspec": {
   "display_name": "Python 3",
   "language": "python",
   "name": "python3"
  },
  "language_info": {
   "codemirror_mode": {
    "name": "ipython",
    "version": 3
   },
   "file_extension": ".py",
   "mimetype": "text/x-python",
   "name": "python",
   "nbconvert_exporter": "python",
   "pygments_lexer": "ipython3",
   "version": "3.8.5"
  }
 },
 "nbformat": 4,
 "nbformat_minor": 4
}
