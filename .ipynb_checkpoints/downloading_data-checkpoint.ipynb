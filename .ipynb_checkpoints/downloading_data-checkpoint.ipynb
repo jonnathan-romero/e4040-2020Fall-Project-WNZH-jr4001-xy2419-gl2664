{
 "cells": [
  {
   "cell_type": "code",
   "execution_count": null,
   "metadata": {},
   "outputs": [],
   "source": [
    "#import sys\n",
    "#!{sys.executable} -m pip install pydrive"
   ]
  },
  {
   "cell_type": "code",
   "execution_count": null,
   "metadata": {},
   "outputs": [],
   "source": [
    "from pydrive.auth import GoogleAuth\n",
    "from pydrive.drive import GoogleDrive\n",
    "\n",
    "gauth = GoogleAuth()\n",
    "gauth.LocalWebserverAuth() \n",
    "drive = GoogleDrive(gauth)"
   ]
  },
  {
   "cell_type": "code",
   "execution_count": null,
   "metadata": {},
   "outputs": [],
   "source": [
    "files = {'WRDS_Financial_Ratios_Monthly.zip':'1sR3oAOjKyzIxYttotJrzMmhrShNIV1zf',\n",
    "         #'WRDS_ALL_PRICE_RETURN_DATA_Daily.zip':'1Fp6lTSOHlEokJsAFtb_MU8onFAN-0Bh8',\n",
    "         'WRDS_ALL_PRICE_RETURN_DATA_Monthly.zip':'1_ESds4Ede3Zke896hl1d4c3iy8SVR-Yc',\n",
    "         'WRDS_constiuents1968_2020_output_universe.zip':'1veIbnyv4n3hqBYrQo5ovBoc1aGXdFygc'}"
   ]
  },
  {
   "cell_type": "code",
   "execution_count": null,
   "metadata": {},
   "outputs": [],
   "source": [
    "for file_name, id in files.items():\n",
    "    print(file_name)\n",
    "    data = drive.CreateFile({'id': id})\n",
    "    data.GetContentFile(file_name)"
   ]
  },
  {
   "cell_type": "code",
   "execution_count": null,
   "metadata": {},
   "outputs": [],
   "source": [
    "import shutil\n",
    "import os\n",
    "for file_name, id in files.items():\n",
    "    print(file_name)\n",
    "    shutil.unpack_archive(file_name, './data')\n",
    "    os.remove(file_name)"
   ]
  },
  {
   "cell_type": "markdown",
   "metadata": {},
   "source": [
    "<h1>Start here if you already have the data...</h1>"
   ]
  },
  {
   "cell_type": "code",
   "execution_count": null,
   "metadata": {},
   "outputs": [],
   "source": [
    "import pandas as pd\n",
    "import numpy as np"
   ]
  },
  {
   "cell_type": "code",
   "execution_count": null,
   "metadata": {},
   "outputs": [],
   "source": [
    "data_filenames = ['.\\data\\WRDS_Financial_Ratios_Monthly\\WRDS_Financial_Ratios_Monthly.csv',\n",
    "                 #'\\data\\WRDS_ALL_PRICE_RETURN_DATA_Daily\\WRDS_ALL_PRICE_RETURN_DATA_Daily.csv',\n",
    "                  '.\\data\\WRDS_ALL_PRICE_RETURN_DATA_Monthly\\WRDS_ALL_PRICE_RETURN_DATA_Monthly.csv',\n",
    "                   '.\\data\\WRDS_constiuents1968_2020_output_universe\\WRDS_constiuents1968_2020_output_universe.csv']"
   ]
  },
  {
   "cell_type": "code",
   "execution_count": null,
   "metadata": {},
   "outputs": [],
   "source": [
    "constituents = pd.read_csv(data_filenames[2], '\\t',low_memory=False)"
   ]
  },
  {
   "cell_type": "code",
   "execution_count": null,
   "metadata": {},
   "outputs": [],
   "source": [
    "constituents['DLSTDT'] = np.where(constituents['DLSTDT']=='20191231','2020-10-31',constituents['DLSTDT'])\n",
    "constituents['NAMEDT'] = pd.to_datetime(constituents['NAMEDT'],format=\"%Y%m%d\")\n",
    "constituents['BEGEXCHDATE'] = pd.to_datetime(constituents['BEGEXCHDATE'],format=\"%Y%m%d\")\n",
    "constituents['ENDEXCHDATE'] = pd.to_datetime(constituents['ENDEXCHDATE'],format=\"%Y%m%d\")\n",
    "constituents['DLSTDT'] = pd.to_datetime(constituents['DLSTDT'],format=\"%Y%m%d\")"
   ]
  },
  {
   "cell_type": "code",
   "execution_count": null,
   "metadata": {},
   "outputs": [],
   "source": [
    "date_list = pd.date_range('1968-01-31','2020-10-31', freq='M').tolist()"
   ]
  },
  {
   "cell_type": "code",
   "execution_count": null,
   "metadata": {},
   "outputs": [],
   "source": [
    "universe = pd.DataFrame(columns=constituents.columns)\n",
    "for dt in date_list:\n",
    "    temp = constituents[(constituents['BEGEXCHDATE'] <= dt) & (constituents['DLSTDT'] >= dt)]\n",
    "    temp.insert(0, 'DATE', dt)\n",
    "    universe = universe.append(temp)"
   ]
  },
  {
   "cell_type": "code",
   "execution_count": null,
   "metadata": {},
   "outputs": [],
   "source": [
    "universe.shape"
   ]
  },
  {
   "cell_type": "code",
   "execution_count": null,
   "metadata": {},
   "outputs": [],
   "source": [
    "universe.columns"
   ]
  },
  {
   "cell_type": "code",
   "execution_count": null,
   "metadata": {},
   "outputs": [],
   "source": [
    "del constituents\n",
    "del temp"
   ]
  },
  {
   "cell_type": "markdown",
   "metadata": {},
   "source": [
    "<h1>After initial Universe</h1>"
   ]
  },
  {
   "cell_type": "code",
   "execution_count": null,
   "metadata": {},
   "outputs": [],
   "source": [
    "#universe.to_csv('initial_universe.csv',index=False)\n",
    "import pandas as pd\n",
    "import gc\n",
    "universe=pd.read_csv('initial_universe.csv',low_memory=False)\n",
    "universe['DATE'] = pd.to_datetime(universe['DATE'],format=\"%Y-%m-%d\")"
   ]
  },
  {
   "cell_type": "code",
   "execution_count": null,
   "metadata": {},
   "outputs": [],
   "source": [
    "dt_break = pd.date_range('1973-01-31','2020-10-31', freq='M').tolist()\n",
    "data_filenames = ['.\\data\\WRDS_Financial_Ratios_Monthly\\WRDS_Financial_Ratios_Monthly.csv',\n",
    "                 #'\\data\\WRDS_ALL_PRICE_RETURN_DATA_Daily\\WRDS_ALL_PRICE_RETURN_DATA_Daily.csv',\n",
    "                  '.\\data\\WRDS_ALL_PRICE_RETURN_DATA_Monthly\\WRDS_ALL_PRICE_RETURN_DATA_Monthly.csv',\n",
    "                   '.\\data\\WRDS_constiuents1968_2020_output_universe\\WRDS_constiuents1968_2020_output_universe.csv']"
   ]
  },
  {
   "cell_type": "code",
   "execution_count": null,
   "metadata": {},
   "outputs": [],
   "source": [
    "financial_ratios = pd.read_csv(data_filenames[0],'\\t',low_memory=False,index_col=0)\n",
    "financial_ratios['public_date'] = pd.to_datetime(financial_ratios['public_date'],format=\"%Y%m%d\")"
   ]
  },
  {
   "cell_type": "code",
   "execution_count": null,
   "metadata": {},
   "outputs": [],
   "source": [
    "universe_dict = {}\n",
    "financial_ratios_dict = {}\n",
    "for dt in dt_break:\n",
    "    if (dt.month==12):\n",
    "        print(dt)  \n",
    "    universe_dict[dt] = universe[universe['DATE']==dt]\n",
    "    universe = universe[universe['DATE']>dt]\n",
    "    financial_ratios_dict[dt] = financial_ratios[financial_ratios['public_date']==dt]\n",
    "    financial_ratios = financial_ratios[financial_ratios['public_date']>dt]\n",
    "    gc.collect()\n",
    "del universe\n",
    "del financial_ratios\n",
    "gc.collect()"
   ]
  },
  {
   "cell_type": "code",
   "execution_count": null,
   "metadata": {},
   "outputs": [],
   "source": [
    "universe = pd.DataFrame()\n",
    "for dt in dt_break:\n",
    "    universe_dict[dt] = pd.merge(universe_dict[dt], financial_ratios_dict[dt],  how='left', left_on=['DATE','PERMNO'], right_on = ['public_date','permno'], suffixes=['_0', '_1'])\n",
    "    universe_dict[dt] = pd.merge(universe_dict[dt], financial_ratios_dict[dt],  how='left', left_on=['DATE','NCUSIP'], right_on = ['public_date','cusip'], suffixes=['_2', '_3'])\n",
    "    universe_dict[dt] = pd.merge(universe_dict[dt], financial_ratios_dict[dt],  how='left', left_on=['DATE','TICKER'], right_on = ['public_date','TICKER'], suffixes=['_4', '_5'])\n",
    "    universe = universe.append(universe_dict[dt],ignore_index=True)\n",
    "    del universe_dict[dt]\n",
    "    del financial_ratios_dict[dt]\n",
    "    gc.collect()\n",
    "    if (dt.month==12):\n",
    "        print(dt)  \n",
    "        universe.to_csv('financial_ratios_universe_'+str(dt.year)+'.csv',index=False)\n",
    "        del universe\n",
    "        universe = pd.DataFrame()\n",
    "        gc.collect()\n",
    "universe.to_csv('financial_ratios_universe_'+str(dt.year)+'.csv',index=False)\n",
    "del universe"
   ]
  },
  {
   "cell_type": "code",
   "execution_count": null,
   "metadata": {},
   "outputs": [],
   "source": []
  },
  {
   "cell_type": "code",
   "execution_count": null,
   "metadata": {},
   "outputs": [],
   "source": []
  },
  {
   "cell_type": "code",
   "execution_count": null,
   "metadata": {},
   "outputs": [],
   "source": [
    "monthly_returns = pd.read_csv(data_filenames[1],'\\t',low_memory=False,index_col=0)"
   ]
  },
  {
   "cell_type": "code",
   "execution_count": null,
   "metadata": {},
   "outputs": [],
   "source": []
  },
  {
   "cell_type": "code",
   "execution_count": null,
   "metadata": {},
   "outputs": [],
   "source": []
  },
  {
   "cell_type": "code",
   "execution_count": null,
   "metadata": {},
   "outputs": [],
   "source": []
  },
  {
   "cell_type": "code",
   "execution_count": null,
   "metadata": {},
   "outputs": [],
   "source": []
  },
  {
   "cell_type": "code",
   "execution_count": null,
   "metadata": {},
   "outputs": [],
   "source": []
  },
  {
   "cell_type": "code",
   "execution_count": null,
   "metadata": {},
   "outputs": [],
   "source": []
  },
  {
   "cell_type": "code",
   "execution_count": null,
   "metadata": {},
   "outputs": [],
   "source": []
  },
  {
   "cell_type": "code",
   "execution_count": null,
   "metadata": {},
   "outputs": [],
   "source": []
  },
  {
   "cell_type": "code",
   "execution_count": null,
   "metadata": {},
   "outputs": [],
   "source": []
  },
  {
   "cell_type": "code",
   "execution_count": null,
   "metadata": {},
   "outputs": [],
   "source": []
  },
  {
   "cell_type": "code",
   "execution_count": null,
   "metadata": {},
   "outputs": [],
   "source": []
  },
  {
   "cell_type": "code",
   "execution_count": null,
   "metadata": {},
   "outputs": [],
   "source": []
  },
  {
   "cell_type": "code",
   "execution_count": null,
   "metadata": {},
   "outputs": [],
   "source": []
  },
  {
   "cell_type": "code",
   "execution_count": null,
   "metadata": {},
   "outputs": [],
   "source": []
  },
  {
   "cell_type": "code",
   "execution_count": null,
   "metadata": {},
   "outputs": [],
   "source": []
  },
  {
   "cell_type": "code",
   "execution_count": null,
   "metadata": {},
   "outputs": [],
   "source": []
  },
  {
   "cell_type": "code",
   "execution_count": null,
   "metadata": {},
   "outputs": [],
   "source": []
  },
  {
   "cell_type": "code",
   "execution_count": null,
   "metadata": {},
   "outputs": [],
   "source": []
  },
  {
   "cell_type": "code",
   "execution_count": null,
   "metadata": {},
   "outputs": [],
   "source": []
  }
 ],
 "metadata": {
  "kernelspec": {
   "display_name": "Python 3",
   "language": "python",
   "name": "python3"
  },
  "language_info": {
   "codemirror_mode": {
    "name": "ipython",
    "version": 3
   },
   "file_extension": ".py",
   "mimetype": "text/x-python",
   "name": "python",
   "nbconvert_exporter": "python",
   "pygments_lexer": "ipython3",
   "version": "3.7.7"
  }
 },
 "nbformat": 4,
 "nbformat_minor": 4
}
