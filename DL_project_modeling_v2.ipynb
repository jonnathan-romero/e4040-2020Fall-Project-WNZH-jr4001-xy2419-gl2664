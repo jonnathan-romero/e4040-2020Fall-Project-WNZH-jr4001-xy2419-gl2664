{
 "cells": [
  {
   "cell_type": "code",
   "execution_count": 1,
   "metadata": {},
   "outputs": [],
   "source": [
    "import os"
   ]
  },
  {
   "cell_type": "code",
   "execution_count": 2,
   "metadata": {},
   "outputs": [
    {
     "data": {
      "text/plain": [
       "'C:\\\\Users\\\\13473\\\\Desktop\\\\e4040-2020Fall-Project-WNZH-jr4001-xy2419-gl2664'"
      ]
     },
     "execution_count": 2,
     "metadata": {},
     "output_type": "execute_result"
    }
   ],
   "source": [
    "wd_path = r'C:\\Users\\13473\\Desktop\\e4040-2020Fall-Project-WNZH-jr4001-xy2419-gl2664'\n",
    "os.chdir(wd_path)\n",
    "os.getcwd()"
   ]
  },
  {
   "cell_type": "code",
   "execution_count": 3,
   "metadata": {},
   "outputs": [],
   "source": [
    "file_name = 'complete_universe_cleaned_normalized_jonn.csv'"
   ]
  },
  {
   "cell_type": "code",
   "execution_count": 4,
   "metadata": {},
   "outputs": [],
   "source": [
    "import pandas as pd\n",
    "\n",
    "from datetime import datetime"
   ]
  },
  {
   "cell_type": "code",
   "execution_count": 5,
   "metadata": {},
   "outputs": [
    {
     "name": "stderr",
     "output_type": "stream",
     "text": [
      "C:\\ProgramData\\Anaconda3\\lib\\site-packages\\numpy\\lib\\arraysetops.py:569: FutureWarning: elementwise comparison failed; returning scalar instead, but in the future will perform elementwise comparison\n",
      "  mask |= (ar1 == a)\n"
     ]
    }
   ],
   "source": [
    "df = pd.read_csv(file_name,dtype={'COMNAM':str,'NCUSIP':str,'PERMNO':str,'PERMCO':str,'SICCD':str,'TICKER_PERMNO':str},low_memory=False,index_col=0)"
   ]
  },
  {
   "cell_type": "code",
   "execution_count": 6,
   "metadata": {},
   "outputs": [
    {
     "data": {
      "text/html": [
       "<div>\n",
       "<style scoped>\n",
       "    .dataframe tbody tr th:only-of-type {\n",
       "        vertical-align: middle;\n",
       "    }\n",
       "\n",
       "    .dataframe tbody tr th {\n",
       "        vertical-align: top;\n",
       "    }\n",
       "\n",
       "    .dataframe thead th {\n",
       "        text-align: right;\n",
       "    }\n",
       "</style>\n",
       "<table border=\"1\" class=\"dataframe\">\n",
       "  <thead>\n",
       "    <tr style=\"text-align: right;\">\n",
       "      <th></th>\n",
       "      <th>DATE</th>\n",
       "      <th>COMNAM</th>\n",
       "      <th>NCUSIP</th>\n",
       "      <th>PERMNO</th>\n",
       "      <th>PERMCO</th>\n",
       "      <th>SICCD</th>\n",
       "      <th>TICKER_PERMNO</th>\n",
       "      <th>accru</th>\n",
       "      <th>adv_sale</th>\n",
       "      <th>aftret_eq</th>\n",
       "      <th>...</th>\n",
       "      <th>m-9</th>\n",
       "      <th>m-8</th>\n",
       "      <th>m-7</th>\n",
       "      <th>m-6</th>\n",
       "      <th>m-5</th>\n",
       "      <th>m-4</th>\n",
       "      <th>m-3</th>\n",
       "      <th>m-2</th>\n",
       "      <th>m-1</th>\n",
       "      <th>m+1</th>\n",
       "    </tr>\n",
       "  </thead>\n",
       "  <tbody>\n",
       "    <tr>\n",
       "      <th>27583</th>\n",
       "      <td>1971-01-31</td>\n",
       "      <td>A J INDUSTRIES INC</td>\n",
       "      <td>00147610</td>\n",
       "      <td>10014</td>\n",
       "      <td>22157</td>\n",
       "      <td>3714</td>\n",
       "      <td>AJ</td>\n",
       "      <td>-0.117260</td>\n",
       "      <td>-0.113519</td>\n",
       "      <td>-0.813571</td>\n",
       "      <td>...</td>\n",
       "      <td>0.001251</td>\n",
       "      <td>-0.941377</td>\n",
       "      <td>-1.176635</td>\n",
       "      <td>1.517398</td>\n",
       "      <td>-0.683777</td>\n",
       "      <td>-0.900893</td>\n",
       "      <td>0.593122</td>\n",
       "      <td>-0.940143</td>\n",
       "      <td>0.116698</td>\n",
       "      <td>0.0000</td>\n",
       "    </tr>\n",
       "    <tr>\n",
       "      <th>27584</th>\n",
       "      <td>1971-01-31</td>\n",
       "      <td>ACME CLEVELAND CORP NEW</td>\n",
       "      <td>00462610</td>\n",
       "      <td>10057</td>\n",
       "      <td>20020</td>\n",
       "      <td>3541</td>\n",
       "      <td>AMT</td>\n",
       "      <td>-0.064131</td>\n",
       "      <td>-0.113519</td>\n",
       "      <td>-0.196725</td>\n",
       "      <td>...</td>\n",
       "      <td>-0.056237</td>\n",
       "      <td>-0.915174</td>\n",
       "      <td>-0.584738</td>\n",
       "      <td>-0.403639</td>\n",
       "      <td>-0.806319</td>\n",
       "      <td>0.013049</td>\n",
       "      <td>-0.202798</td>\n",
       "      <td>-0.281856</td>\n",
       "      <td>0.339423</td>\n",
       "      <td>-6.6667</td>\n",
       "    </tr>\n",
       "    <tr>\n",
       "      <th>27585</th>\n",
       "      <td>1971-01-31</td>\n",
       "      <td>AIRCO INC</td>\n",
       "      <td>00929210</td>\n",
       "      <td>10102</td>\n",
       "      <td>22164</td>\n",
       "      <td>2813</td>\n",
       "      <td>AN</td>\n",
       "      <td>0.307774</td>\n",
       "      <td>-0.113519</td>\n",
       "      <td>-0.121193</td>\n",
       "      <td>...</td>\n",
       "      <td>1.278155</td>\n",
       "      <td>-1.462220</td>\n",
       "      <td>1.071018</td>\n",
       "      <td>0.013667</td>\n",
       "      <td>-0.673061</td>\n",
       "      <td>0.392360</td>\n",
       "      <td>0.847147</td>\n",
       "      <td>0.915201</td>\n",
       "      <td>-1.149364</td>\n",
       "      <td>9.0173</td>\n",
       "    </tr>\n",
       "    <tr>\n",
       "      <th>27586</th>\n",
       "      <td>1971-01-31</td>\n",
       "      <td>ALLEGHENY ENERGY INC</td>\n",
       "      <td>01736110</td>\n",
       "      <td>10137</td>\n",
       "      <td>20045</td>\n",
       "      <td>4911</td>\n",
       "      <td>AYE</td>\n",
       "      <td>0.445910</td>\n",
       "      <td>-0.113519</td>\n",
       "      <td>0.243880</td>\n",
       "      <td>...</td>\n",
       "      <td>0.247009</td>\n",
       "      <td>0.188850</td>\n",
       "      <td>0.451364</td>\n",
       "      <td>0.107172</td>\n",
       "      <td>-1.154944</td>\n",
       "      <td>0.238780</td>\n",
       "      <td>1.291454</td>\n",
       "      <td>-0.087532</td>\n",
       "      <td>-0.731256</td>\n",
       "      <td>-0.5291</td>\n",
       "    </tr>\n",
       "    <tr>\n",
       "      <th>27587</th>\n",
       "      <td>1971-01-31</td>\n",
       "      <td>HONEYWELL INTERNATIONAL INC</td>\n",
       "      <td>43851610</td>\n",
       "      <td>10145</td>\n",
       "      <td>22168</td>\n",
       "      <td>5099</td>\n",
       "      <td>HON</td>\n",
       "      <td>1.115338</td>\n",
       "      <td>-0.113519</td>\n",
       "      <td>-0.240785</td>\n",
       "      <td>...</td>\n",
       "      <td>0.720838</td>\n",
       "      <td>-0.591712</td>\n",
       "      <td>0.357377</td>\n",
       "      <td>1.069443</td>\n",
       "      <td>-1.573860</td>\n",
       "      <td>-0.095448</td>\n",
       "      <td>0.137207</td>\n",
       "      <td>1.965114</td>\n",
       "      <td>-0.814098</td>\n",
       "      <td>16.4467</td>\n",
       "    </tr>\n",
       "    <tr>\n",
       "      <th>27589</th>\n",
       "      <td>1971-01-31</td>\n",
       "      <td>AMAX INC</td>\n",
       "      <td>02312710</td>\n",
       "      <td>10161</td>\n",
       "      <td>20063</td>\n",
       "      <td>1011</td>\n",
       "      <td>AMX</td>\n",
       "      <td>0.275896</td>\n",
       "      <td>-0.113519</td>\n",
       "      <td>0.319412</td>\n",
       "      <td>...</td>\n",
       "      <td>1.346578</td>\n",
       "      <td>0.929403</td>\n",
       "      <td>-0.661364</td>\n",
       "      <td>-0.872553</td>\n",
       "      <td>-0.572310</td>\n",
       "      <td>-0.357254</td>\n",
       "      <td>-0.477762</td>\n",
       "      <td>0.423514</td>\n",
       "      <td>-1.058568</td>\n",
       "      <td>3.3208</td>\n",
       "    </tr>\n",
       "    <tr>\n",
       "      <th>27590</th>\n",
       "      <td>1971-01-31</td>\n",
       "      <td>AMBAC INDUSTRIES INC</td>\n",
       "      <td>02314110</td>\n",
       "      <td>10188</td>\n",
       "      <td>22170</td>\n",
       "      <td>3714</td>\n",
       "      <td>AB</td>\n",
       "      <td>0.116509</td>\n",
       "      <td>-0.113519</td>\n",
       "      <td>-0.102309</td>\n",
       "      <td>...</td>\n",
       "      <td>-0.744377</td>\n",
       "      <td>-0.608532</td>\n",
       "      <td>-0.445470</td>\n",
       "      <td>0.515734</td>\n",
       "      <td>0.429404</td>\n",
       "      <td>-1.486886</td>\n",
       "      <td>1.006496</td>\n",
       "      <td>1.019840</td>\n",
       "      <td>-0.115450</td>\n",
       "      <td>-8.1818</td>\n",
       "    </tr>\n",
       "    <tr>\n",
       "      <th>27591</th>\n",
       "      <td>1971-01-31</td>\n",
       "      <td>BEAM INC</td>\n",
       "      <td>07373010</td>\n",
       "      <td>10225</td>\n",
       "      <td>20067</td>\n",
       "      <td>3433</td>\n",
       "      <td>BEAM</td>\n",
       "      <td>0.509665</td>\n",
       "      <td>-0.113519</td>\n",
       "      <td>0.275352</td>\n",
       "      <td>...</td>\n",
       "      <td>1.098856</td>\n",
       "      <td>1.031713</td>\n",
       "      <td>0.099921</td>\n",
       "      <td>-0.160726</td>\n",
       "      <td>-1.156465</td>\n",
       "      <td>1.154392</td>\n",
       "      <td>1.245700</td>\n",
       "      <td>-0.735641</td>\n",
       "      <td>-0.785211</td>\n",
       "      <td>2.5405</td>\n",
       "    </tr>\n",
       "    <tr>\n",
       "      <th>27592</th>\n",
       "      <td>1971-01-31</td>\n",
       "      <td>AMERICAN BROADCASTING COS INC</td>\n",
       "      <td>02473510</td>\n",
       "      <td>10233</td>\n",
       "      <td>22176</td>\n",
       "      <td>4832</td>\n",
       "      <td>ABC</td>\n",
       "      <td>-0.181015</td>\n",
       "      <td>-0.113519</td>\n",
       "      <td>0.055049</td>\n",
       "      <td>...</td>\n",
       "      <td>0.615520</td>\n",
       "      <td>-0.540392</td>\n",
       "      <td>0.431352</td>\n",
       "      <td>0.328034</td>\n",
       "      <td>-0.130200</td>\n",
       "      <td>-1.017007</td>\n",
       "      <td>0.354591</td>\n",
       "      <td>-0.091862</td>\n",
       "      <td>-0.525110</td>\n",
       "      <td>7.0000</td>\n",
       "    </tr>\n",
       "    <tr>\n",
       "      <th>27593</th>\n",
       "      <td>1971-01-31</td>\n",
       "      <td>PRIMERICA CORP</td>\n",
       "      <td>74158710</td>\n",
       "      <td>10241</td>\n",
       "      <td>22177</td>\n",
       "      <td>3411</td>\n",
       "      <td>PA</td>\n",
       "      <td>0.350277</td>\n",
       "      <td>-0.113519</td>\n",
       "      <td>-0.039366</td>\n",
       "      <td>...</td>\n",
       "      <td>-0.025640</td>\n",
       "      <td>0.469740</td>\n",
       "      <td>0.648572</td>\n",
       "      <td>0.289932</td>\n",
       "      <td>-1.473809</td>\n",
       "      <td>0.284449</td>\n",
       "      <td>0.317817</td>\n",
       "      <td>-0.767282</td>\n",
       "      <td>-0.537445</td>\n",
       "      <td>0.0000</td>\n",
       "    </tr>\n",
       "  </tbody>\n",
       "</table>\n",
       "<p>10 rows × 78 columns</p>\n",
       "</div>"
      ],
      "text/plain": [
       "             DATE                         COMNAM    NCUSIP PERMNO PERMCO  \\\n",
       "27583  1971-01-31             A J INDUSTRIES INC  00147610  10014  22157   \n",
       "27584  1971-01-31        ACME CLEVELAND CORP NEW  00462610  10057  20020   \n",
       "27585  1971-01-31                      AIRCO INC  00929210  10102  22164   \n",
       "27586  1971-01-31           ALLEGHENY ENERGY INC  01736110  10137  20045   \n",
       "27587  1971-01-31    HONEYWELL INTERNATIONAL INC  43851610  10145  22168   \n",
       "27589  1971-01-31                       AMAX INC  02312710  10161  20063   \n",
       "27590  1971-01-31           AMBAC INDUSTRIES INC  02314110  10188  22170   \n",
       "27591  1971-01-31                       BEAM INC  07373010  10225  20067   \n",
       "27592  1971-01-31  AMERICAN BROADCASTING COS INC  02473510  10233  22176   \n",
       "27593  1971-01-31                 PRIMERICA CORP  74158710  10241  22177   \n",
       "\n",
       "      SICCD TICKER_PERMNO     accru  adv_sale  aftret_eq  ...       m-9  \\\n",
       "27583  3714            AJ -0.117260 -0.113519  -0.813571  ...  0.001251   \n",
       "27584  3541           AMT -0.064131 -0.113519  -0.196725  ... -0.056237   \n",
       "27585  2813            AN  0.307774 -0.113519  -0.121193  ...  1.278155   \n",
       "27586  4911           AYE  0.445910 -0.113519   0.243880  ...  0.247009   \n",
       "27587  5099           HON  1.115338 -0.113519  -0.240785  ...  0.720838   \n",
       "27589  1011           AMX  0.275896 -0.113519   0.319412  ...  1.346578   \n",
       "27590  3714            AB  0.116509 -0.113519  -0.102309  ... -0.744377   \n",
       "27591  3433          BEAM  0.509665 -0.113519   0.275352  ...  1.098856   \n",
       "27592  4832           ABC -0.181015 -0.113519   0.055049  ...  0.615520   \n",
       "27593  3411            PA  0.350277 -0.113519  -0.039366  ... -0.025640   \n",
       "\n",
       "            m-8       m-7       m-6       m-5       m-4       m-3       m-2  \\\n",
       "27583 -0.941377 -1.176635  1.517398 -0.683777 -0.900893  0.593122 -0.940143   \n",
       "27584 -0.915174 -0.584738 -0.403639 -0.806319  0.013049 -0.202798 -0.281856   \n",
       "27585 -1.462220  1.071018  0.013667 -0.673061  0.392360  0.847147  0.915201   \n",
       "27586  0.188850  0.451364  0.107172 -1.154944  0.238780  1.291454 -0.087532   \n",
       "27587 -0.591712  0.357377  1.069443 -1.573860 -0.095448  0.137207  1.965114   \n",
       "27589  0.929403 -0.661364 -0.872553 -0.572310 -0.357254 -0.477762  0.423514   \n",
       "27590 -0.608532 -0.445470  0.515734  0.429404 -1.486886  1.006496  1.019840   \n",
       "27591  1.031713  0.099921 -0.160726 -1.156465  1.154392  1.245700 -0.735641   \n",
       "27592 -0.540392  0.431352  0.328034 -0.130200 -1.017007  0.354591 -0.091862   \n",
       "27593  0.469740  0.648572  0.289932 -1.473809  0.284449  0.317817 -0.767282   \n",
       "\n",
       "            m-1      m+1  \n",
       "27583  0.116698   0.0000  \n",
       "27584  0.339423  -6.6667  \n",
       "27585 -1.149364   9.0173  \n",
       "27586 -0.731256  -0.5291  \n",
       "27587 -0.814098  16.4467  \n",
       "27589 -1.058568   3.3208  \n",
       "27590 -0.115450  -8.1818  \n",
       "27591 -0.785211   2.5405  \n",
       "27592 -0.525110   7.0000  \n",
       "27593 -0.537445   0.0000  \n",
       "\n",
       "[10 rows x 78 columns]"
      ]
     },
     "execution_count": 6,
     "metadata": {},
     "output_type": "execute_result"
    }
   ],
   "source": [
    "df.head(10)"
   ]
  },
  {
   "cell_type": "code",
   "execution_count": 7,
   "metadata": {},
   "outputs": [],
   "source": [
    "df['DATE'] = pd.to_datetime(df['DATE'],format='%Y-%m-%d')"
   ]
  },
  {
   "cell_type": "code",
   "execution_count": 8,
   "metadata": {},
   "outputs": [],
   "source": [
    "import scipy.stats as st\n",
    "\n",
    "def zptile(z_score):\n",
    "    return .5 * (math.erf(z_score / 2 ** .5) + 1)"
   ]
  },
  {
   "cell_type": "code",
   "execution_count": 9,
   "metadata": {},
   "outputs": [],
   "source": [
    "df.loc[:,'m+1'] = df.groupby(['DATE'])['m+1'].transform(lambda x: x.rank(pct = True))"
   ]
  },
  {
   "cell_type": "code",
   "execution_count": 10,
   "metadata": {},
   "outputs": [
    {
     "data": {
      "text/html": [
       "<div>\n",
       "<style scoped>\n",
       "    .dataframe tbody tr th:only-of-type {\n",
       "        vertical-align: middle;\n",
       "    }\n",
       "\n",
       "    .dataframe tbody tr th {\n",
       "        vertical-align: top;\n",
       "    }\n",
       "\n",
       "    .dataframe thead th {\n",
       "        text-align: right;\n",
       "    }\n",
       "</style>\n",
       "<table border=\"1\" class=\"dataframe\">\n",
       "  <thead>\n",
       "    <tr style=\"text-align: right;\">\n",
       "      <th></th>\n",
       "      <th>DATE</th>\n",
       "      <th>COMNAM</th>\n",
       "      <th>NCUSIP</th>\n",
       "      <th>PERMNO</th>\n",
       "      <th>PERMCO</th>\n",
       "      <th>SICCD</th>\n",
       "      <th>TICKER_PERMNO</th>\n",
       "      <th>accru</th>\n",
       "      <th>adv_sale</th>\n",
       "      <th>aftret_eq</th>\n",
       "      <th>...</th>\n",
       "      <th>m-9</th>\n",
       "      <th>m-8</th>\n",
       "      <th>m-7</th>\n",
       "      <th>m-6</th>\n",
       "      <th>m-5</th>\n",
       "      <th>m-4</th>\n",
       "      <th>m-3</th>\n",
       "      <th>m-2</th>\n",
       "      <th>m-1</th>\n",
       "      <th>m+1</th>\n",
       "    </tr>\n",
       "  </thead>\n",
       "  <tbody>\n",
       "    <tr>\n",
       "      <th>27583</th>\n",
       "      <td>1971-01-31</td>\n",
       "      <td>A J INDUSTRIES INC</td>\n",
       "      <td>00147610</td>\n",
       "      <td>10014</td>\n",
       "      <td>22157</td>\n",
       "      <td>3714</td>\n",
       "      <td>AJ</td>\n",
       "      <td>-0.117260</td>\n",
       "      <td>-0.113519</td>\n",
       "      <td>-0.813571</td>\n",
       "      <td>...</td>\n",
       "      <td>0.001251</td>\n",
       "      <td>-0.941377</td>\n",
       "      <td>-1.176635</td>\n",
       "      <td>1.517398</td>\n",
       "      <td>-0.683777</td>\n",
       "      <td>-0.900893</td>\n",
       "      <td>0.593122</td>\n",
       "      <td>-0.940143</td>\n",
       "      <td>0.116698</td>\n",
       "      <td>0.341667</td>\n",
       "    </tr>\n",
       "    <tr>\n",
       "      <th>27584</th>\n",
       "      <td>1971-01-31</td>\n",
       "      <td>ACME CLEVELAND CORP NEW</td>\n",
       "      <td>00462610</td>\n",
       "      <td>10057</td>\n",
       "      <td>20020</td>\n",
       "      <td>3541</td>\n",
       "      <td>AMT</td>\n",
       "      <td>-0.064131</td>\n",
       "      <td>-0.113519</td>\n",
       "      <td>-0.196725</td>\n",
       "      <td>...</td>\n",
       "      <td>-0.056237</td>\n",
       "      <td>-0.915174</td>\n",
       "      <td>-0.584738</td>\n",
       "      <td>-0.403639</td>\n",
       "      <td>-0.806319</td>\n",
       "      <td>0.013049</td>\n",
       "      <td>-0.202798</td>\n",
       "      <td>-0.281856</td>\n",
       "      <td>0.339423</td>\n",
       "      <td>0.091071</td>\n",
       "    </tr>\n",
       "    <tr>\n",
       "      <th>27585</th>\n",
       "      <td>1971-01-31</td>\n",
       "      <td>AIRCO INC</td>\n",
       "      <td>00929210</td>\n",
       "      <td>10102</td>\n",
       "      <td>22164</td>\n",
       "      <td>2813</td>\n",
       "      <td>AN</td>\n",
       "      <td>0.307774</td>\n",
       "      <td>-0.113519</td>\n",
       "      <td>-0.121193</td>\n",
       "      <td>...</td>\n",
       "      <td>1.278155</td>\n",
       "      <td>-1.462220</td>\n",
       "      <td>1.071018</td>\n",
       "      <td>0.013667</td>\n",
       "      <td>-0.673061</td>\n",
       "      <td>0.392360</td>\n",
       "      <td>0.847147</td>\n",
       "      <td>0.915201</td>\n",
       "      <td>-1.149364</td>\n",
       "      <td>0.730952</td>\n",
       "    </tr>\n",
       "    <tr>\n",
       "      <th>27586</th>\n",
       "      <td>1971-01-31</td>\n",
       "      <td>ALLEGHENY ENERGY INC</td>\n",
       "      <td>01736110</td>\n",
       "      <td>10137</td>\n",
       "      <td>20045</td>\n",
       "      <td>4911</td>\n",
       "      <td>AYE</td>\n",
       "      <td>0.445910</td>\n",
       "      <td>-0.113519</td>\n",
       "      <td>0.243880</td>\n",
       "      <td>...</td>\n",
       "      <td>0.247009</td>\n",
       "      <td>0.188850</td>\n",
       "      <td>0.451364</td>\n",
       "      <td>0.107172</td>\n",
       "      <td>-1.154944</td>\n",
       "      <td>0.238780</td>\n",
       "      <td>1.291454</td>\n",
       "      <td>-0.087532</td>\n",
       "      <td>-0.731256</td>\n",
       "      <td>0.311607</td>\n",
       "    </tr>\n",
       "    <tr>\n",
       "      <th>27587</th>\n",
       "      <td>1971-01-31</td>\n",
       "      <td>HONEYWELL INTERNATIONAL INC</td>\n",
       "      <td>43851610</td>\n",
       "      <td>10145</td>\n",
       "      <td>22168</td>\n",
       "      <td>5099</td>\n",
       "      <td>HON</td>\n",
       "      <td>1.115338</td>\n",
       "      <td>-0.113519</td>\n",
       "      <td>-0.240785</td>\n",
       "      <td>...</td>\n",
       "      <td>0.720838</td>\n",
       "      <td>-0.591712</td>\n",
       "      <td>0.357377</td>\n",
       "      <td>1.069443</td>\n",
       "      <td>-1.573860</td>\n",
       "      <td>-0.095448</td>\n",
       "      <td>0.137207</td>\n",
       "      <td>1.965114</td>\n",
       "      <td>-0.814098</td>\n",
       "      <td>0.884524</td>\n",
       "    </tr>\n",
       "    <tr>\n",
       "      <th>27589</th>\n",
       "      <td>1971-01-31</td>\n",
       "      <td>AMAX INC</td>\n",
       "      <td>02312710</td>\n",
       "      <td>10161</td>\n",
       "      <td>20063</td>\n",
       "      <td>1011</td>\n",
       "      <td>AMX</td>\n",
       "      <td>0.275896</td>\n",
       "      <td>-0.113519</td>\n",
       "      <td>0.319412</td>\n",
       "      <td>...</td>\n",
       "      <td>1.346578</td>\n",
       "      <td>0.929403</td>\n",
       "      <td>-0.661364</td>\n",
       "      <td>-0.872553</td>\n",
       "      <td>-0.572310</td>\n",
       "      <td>-0.357254</td>\n",
       "      <td>-0.477762</td>\n",
       "      <td>0.423514</td>\n",
       "      <td>-1.058568</td>\n",
       "      <td>0.511310</td>\n",
       "    </tr>\n",
       "    <tr>\n",
       "      <th>27590</th>\n",
       "      <td>1971-01-31</td>\n",
       "      <td>AMBAC INDUSTRIES INC</td>\n",
       "      <td>02314110</td>\n",
       "      <td>10188</td>\n",
       "      <td>22170</td>\n",
       "      <td>3714</td>\n",
       "      <td>AB</td>\n",
       "      <td>0.116509</td>\n",
       "      <td>-0.113519</td>\n",
       "      <td>-0.102309</td>\n",
       "      <td>...</td>\n",
       "      <td>-0.744377</td>\n",
       "      <td>-0.608532</td>\n",
       "      <td>-0.445470</td>\n",
       "      <td>0.515734</td>\n",
       "      <td>0.429404</td>\n",
       "      <td>-1.486886</td>\n",
       "      <td>1.006496</td>\n",
       "      <td>1.019840</td>\n",
       "      <td>-0.115450</td>\n",
       "      <td>0.060417</td>\n",
       "    </tr>\n",
       "    <tr>\n",
       "      <th>27591</th>\n",
       "      <td>1971-01-31</td>\n",
       "      <td>BEAM INC</td>\n",
       "      <td>07373010</td>\n",
       "      <td>10225</td>\n",
       "      <td>20067</td>\n",
       "      <td>3433</td>\n",
       "      <td>BEAM</td>\n",
       "      <td>0.509665</td>\n",
       "      <td>-0.113519</td>\n",
       "      <td>0.275352</td>\n",
       "      <td>...</td>\n",
       "      <td>1.098856</td>\n",
       "      <td>1.031713</td>\n",
       "      <td>0.099921</td>\n",
       "      <td>-0.160726</td>\n",
       "      <td>-1.156465</td>\n",
       "      <td>1.154392</td>\n",
       "      <td>1.245700</td>\n",
       "      <td>-0.735641</td>\n",
       "      <td>-0.785211</td>\n",
       "      <td>0.469643</td>\n",
       "    </tr>\n",
       "    <tr>\n",
       "      <th>27592</th>\n",
       "      <td>1971-01-31</td>\n",
       "      <td>AMERICAN BROADCASTING COS INC</td>\n",
       "      <td>02473510</td>\n",
       "      <td>10233</td>\n",
       "      <td>22176</td>\n",
       "      <td>4832</td>\n",
       "      <td>ABC</td>\n",
       "      <td>-0.181015</td>\n",
       "      <td>-0.113519</td>\n",
       "      <td>0.055049</td>\n",
       "      <td>...</td>\n",
       "      <td>0.615520</td>\n",
       "      <td>-0.540392</td>\n",
       "      <td>0.431352</td>\n",
       "      <td>0.328034</td>\n",
       "      <td>-0.130200</td>\n",
       "      <td>-1.017007</td>\n",
       "      <td>0.354591</td>\n",
       "      <td>-0.091862</td>\n",
       "      <td>-0.525110</td>\n",
       "      <td>0.662202</td>\n",
       "    </tr>\n",
       "    <tr>\n",
       "      <th>27593</th>\n",
       "      <td>1971-01-31</td>\n",
       "      <td>PRIMERICA CORP</td>\n",
       "      <td>74158710</td>\n",
       "      <td>10241</td>\n",
       "      <td>22177</td>\n",
       "      <td>3411</td>\n",
       "      <td>PA</td>\n",
       "      <td>0.350277</td>\n",
       "      <td>-0.113519</td>\n",
       "      <td>-0.039366</td>\n",
       "      <td>...</td>\n",
       "      <td>-0.025640</td>\n",
       "      <td>0.469740</td>\n",
       "      <td>0.648572</td>\n",
       "      <td>0.289932</td>\n",
       "      <td>-1.473809</td>\n",
       "      <td>0.284449</td>\n",
       "      <td>0.317817</td>\n",
       "      <td>-0.767282</td>\n",
       "      <td>-0.537445</td>\n",
       "      <td>0.341667</td>\n",
       "    </tr>\n",
       "  </tbody>\n",
       "</table>\n",
       "<p>10 rows × 78 columns</p>\n",
       "</div>"
      ],
      "text/plain": [
       "            DATE                         COMNAM    NCUSIP PERMNO PERMCO SICCD  \\\n",
       "27583 1971-01-31             A J INDUSTRIES INC  00147610  10014  22157  3714   \n",
       "27584 1971-01-31        ACME CLEVELAND CORP NEW  00462610  10057  20020  3541   \n",
       "27585 1971-01-31                      AIRCO INC  00929210  10102  22164  2813   \n",
       "27586 1971-01-31           ALLEGHENY ENERGY INC  01736110  10137  20045  4911   \n",
       "27587 1971-01-31    HONEYWELL INTERNATIONAL INC  43851610  10145  22168  5099   \n",
       "27589 1971-01-31                       AMAX INC  02312710  10161  20063  1011   \n",
       "27590 1971-01-31           AMBAC INDUSTRIES INC  02314110  10188  22170  3714   \n",
       "27591 1971-01-31                       BEAM INC  07373010  10225  20067  3433   \n",
       "27592 1971-01-31  AMERICAN BROADCASTING COS INC  02473510  10233  22176  4832   \n",
       "27593 1971-01-31                 PRIMERICA CORP  74158710  10241  22177  3411   \n",
       "\n",
       "      TICKER_PERMNO     accru  adv_sale  aftret_eq  ...       m-9       m-8  \\\n",
       "27583            AJ -0.117260 -0.113519  -0.813571  ...  0.001251 -0.941377   \n",
       "27584           AMT -0.064131 -0.113519  -0.196725  ... -0.056237 -0.915174   \n",
       "27585            AN  0.307774 -0.113519  -0.121193  ...  1.278155 -1.462220   \n",
       "27586           AYE  0.445910 -0.113519   0.243880  ...  0.247009  0.188850   \n",
       "27587           HON  1.115338 -0.113519  -0.240785  ...  0.720838 -0.591712   \n",
       "27589           AMX  0.275896 -0.113519   0.319412  ...  1.346578  0.929403   \n",
       "27590            AB  0.116509 -0.113519  -0.102309  ... -0.744377 -0.608532   \n",
       "27591          BEAM  0.509665 -0.113519   0.275352  ...  1.098856  1.031713   \n",
       "27592           ABC -0.181015 -0.113519   0.055049  ...  0.615520 -0.540392   \n",
       "27593            PA  0.350277 -0.113519  -0.039366  ... -0.025640  0.469740   \n",
       "\n",
       "            m-7       m-6       m-5       m-4       m-3       m-2       m-1  \\\n",
       "27583 -1.176635  1.517398 -0.683777 -0.900893  0.593122 -0.940143  0.116698   \n",
       "27584 -0.584738 -0.403639 -0.806319  0.013049 -0.202798 -0.281856  0.339423   \n",
       "27585  1.071018  0.013667 -0.673061  0.392360  0.847147  0.915201 -1.149364   \n",
       "27586  0.451364  0.107172 -1.154944  0.238780  1.291454 -0.087532 -0.731256   \n",
       "27587  0.357377  1.069443 -1.573860 -0.095448  0.137207  1.965114 -0.814098   \n",
       "27589 -0.661364 -0.872553 -0.572310 -0.357254 -0.477762  0.423514 -1.058568   \n",
       "27590 -0.445470  0.515734  0.429404 -1.486886  1.006496  1.019840 -0.115450   \n",
       "27591  0.099921 -0.160726 -1.156465  1.154392  1.245700 -0.735641 -0.785211   \n",
       "27592  0.431352  0.328034 -0.130200 -1.017007  0.354591 -0.091862 -0.525110   \n",
       "27593  0.648572  0.289932 -1.473809  0.284449  0.317817 -0.767282 -0.537445   \n",
       "\n",
       "            m+1  \n",
       "27583  0.341667  \n",
       "27584  0.091071  \n",
       "27585  0.730952  \n",
       "27586  0.311607  \n",
       "27587  0.884524  \n",
       "27589  0.511310  \n",
       "27590  0.060417  \n",
       "27591  0.469643  \n",
       "27592  0.662202  \n",
       "27593  0.341667  \n",
       "\n",
       "[10 rows x 78 columns]"
      ]
     },
     "execution_count": 10,
     "metadata": {},
     "output_type": "execute_result"
    }
   ],
   "source": [
    "df.head(10)"
   ]
  },
  {
   "cell_type": "code",
   "execution_count": 11,
   "metadata": {},
   "outputs": [
    {
     "data": {
      "text/plain": [
       "['DATE',\n",
       " 'COMNAM',\n",
       " 'NCUSIP',\n",
       " 'PERMNO',\n",
       " 'PERMCO',\n",
       " 'SICCD',\n",
       " 'TICKER_PERMNO',\n",
       " 'accru',\n",
       " 'adv_sale',\n",
       " 'aftret_eq',\n",
       " 'aftret_equity',\n",
       " 'aftret_invcapx',\n",
       " 'at_tu',\n",
       " 'bm',\n",
       " 'CAPEI',\n",
       " 'capital_rat',\n",
       " 'cash_debt',\n",
       " 'cash_lt',\n",
       " 'cash_rat',\n",
       " 'cfm',\n",
       " 'curr_debt',\n",
       " 'curr_rat',\n",
       " 'de_rat',\n",
       " 'debt_assets',\n",
       " 'debt_at',\n",
       " 'debt_capit',\n",
       " 'debt_ebitd',\n",
       " 'debt_invcap',\n",
       " 'divyield',\n",
       " 'dltt_be',\n",
       " 'equity_invcap',\n",
       " 'evm',\n",
       " 'gpm',\n",
       " 'GProf',\n",
       " 'intcov',\n",
       " 'intcov_rat',\n",
       " 'invt_act',\n",
       " 'lt_debt',\n",
       " 'lt_ppent',\n",
       " 'npm',\n",
       " 'ocf_lct',\n",
       " 'opmad',\n",
       " 'opmbd',\n",
       " 'pay_tu',\n",
       " 'pcf',\n",
       " 'pe_ex',\n",
       " 'pe_inc',\n",
       " 'pretret_earnat',\n",
       " 'pretret',\n",
       " 'profit_lct',\n",
       " 'ps',\n",
       " 'ptb',\n",
       " 'ptpm',\n",
       " 'quick_rat',\n",
       " 'rd_sale',\n",
       " 'rect_act',\n",
       " 'rect_tu',\n",
       " 'roa',\n",
       " 'roce',\n",
       " 'roe',\n",
       " 'sale_equity',\n",
       " 'sale_invcap',\n",
       " 'short_debt',\n",
       " 'staff_sale',\n",
       " 'totdebt_invcap',\n",
       " 'm-12',\n",
       " 'm-11',\n",
       " 'm-10',\n",
       " 'm-9',\n",
       " 'm-8',\n",
       " 'm-7',\n",
       " 'm-6',\n",
       " 'm-5',\n",
       " 'm-4',\n",
       " 'm-3',\n",
       " 'm-2',\n",
       " 'm-1',\n",
       " 'm+1']"
      ]
     },
     "execution_count": 11,
     "metadata": {},
     "output_type": "execute_result"
    }
   ],
   "source": [
    "list(df.columns)"
   ]
  },
  {
   "cell_type": "code",
   "execution_count": 12,
   "metadata": {},
   "outputs": [],
   "source": [
    "identifier_cols = ['DATE','COMNAM','NCUSIP','PERMNO','PERMCO','SICCD','TICKER_PERMNO']\n",
    "cross_sectional_cols=['accru', 'adv_sale', 'aftret_eq', 'aftret_equity','aftret_invcapx', 'at_tu', 'bm', 'CAPEI', 'capital_rat', 'cash_debt',\n",
    "       'cash_lt', 'cash_rat', 'cfm', 'curr_debt', 'curr_rat', 'de_rat','debt_assets', 'debt_at', 'debt_capit', 'debt_ebitd', 'debt_invcap',\n",
    "       'divyield', 'dltt_be', 'equity_invcap', 'evm', 'gpm', 'GProf', 'intcov','intcov_rat', 'invt_act', 'lt_debt', 'lt_ppent', 'npm', 'ocf_lct',\n",
    "       'opmad', 'opmbd', 'pay_tu', 'pcf', 'pe_ex', 'pe_inc', 'pretret_earnat','pretret', 'profit_lct', 'ps', 'ptb', 'ptpm', 'quick_rat', 'rd_sale',\n",
    "       'rect_act', 'rect_tu', 'roa', 'roce', 'roe', 'sale_equity','sale_invcap', 'short_debt', 'staff_sale', 'totdebt_invcap']\n",
    "time_series_cols= ['m-12','m-11', 'm-10', 'm-9', 'm-8', 'm-7', 'm-6', 'm-5', 'm-4', 'm-3', 'm-2','m-1']\n",
    "Y = ['m+1']"
   ]
  },
  {
   "cell_type": "code",
   "execution_count": 13,
   "metadata": {},
   "outputs": [],
   "source": [
    "c_t_cols = cross_sectional_cols + time_series_cols"
   ]
  },
  {
   "cell_type": "code",
   "execution_count": 14,
   "metadata": {},
   "outputs": [
    {
     "data": {
      "text/plain": [
       "58"
      ]
     },
     "execution_count": 14,
     "metadata": {},
     "output_type": "execute_result"
    }
   ],
   "source": [
    "len(cross_sectional_cols)"
   ]
  },
  {
   "cell_type": "code",
   "execution_count": 15,
   "metadata": {},
   "outputs": [
    {
     "data": {
      "text/plain": [
       "12"
      ]
     },
     "execution_count": 15,
     "metadata": {},
     "output_type": "execute_result"
    }
   ],
   "source": [
    "len(time_series_cols)"
   ]
  },
  {
   "cell_type": "code",
   "execution_count": 310,
   "metadata": {},
   "outputs": [],
   "source": [
    "import tensorflow as tf\n",
    "from tensorflow.keras.layers import LSTM, Dense, Concatenate, Input, Dropout, BatchNormalization\n",
    "from tensorflow.keras.callbacks import EarlyStopping, ModelCheckpoint,ReduceLROnPlateau"
   ]
  },
  {
   "cell_type": "code",
   "execution_count": 311,
   "metadata": {},
   "outputs": [
    {
     "data": {
      "text/plain": [
       "'2.3.1'"
      ]
     },
     "execution_count": 311,
     "metadata": {},
     "output_type": "execute_result"
    }
   ],
   "source": [
    "tf.__version__"
   ]
  },
  {
   "cell_type": "code",
   "execution_count": 312,
   "metadata": {},
   "outputs": [
    {
     "data": {
      "text/plain": [
       "DATE      datetime64[ns]\n",
       "COMNAM            object\n",
       "NCUSIP            object\n",
       "PERMNO            object\n",
       "PERMCO            object\n",
       "               ...      \n",
       "m-4              float64\n",
       "m-3              float64\n",
       "m-2              float64\n",
       "m-1              float64\n",
       "m+1              float64\n",
       "Length: 78, dtype: object"
      ]
     },
     "execution_count": 312,
     "metadata": {},
     "output_type": "execute_result"
    }
   ],
   "source": [
    "df.dtypes"
   ]
  },
  {
   "cell_type": "code",
   "execution_count": 313,
   "metadata": {},
   "outputs": [],
   "source": [
    "'''Model 1:  MLP'''\n",
    "cross_sectional_inputs = Input(shape=(70,))\n",
    "\n",
    "h1=Dense(500, activation='tanh')(cross_sectional_inputs)\n",
    "d1=Dropout(0.5)(h1)\n",
    "h2=Dense(500, activation='tanh')(d1)\n",
    "d2=Dropout(0.5)(h2)\n",
    "h3=Dense(200, activation='tanh')(d2)\n",
    "d3=Dropout(0.5)(h3)\n",
    "h4=Dense(200, activation='tanh')(d3)\n",
    "d4=Dropout(0.5)(h4)\n",
    "outputs=Dense(1,activation='sigmoid')(d4)\n",
    "\n",
    "mlp_model=tf.keras.Model(inputs=cross_sectional_inputs, outputs=outputs)\n",
    "\n",
    "opt=tf.keras.optimizers.Adam(\n",
    "    learning_rate=0.1,\n",
    ")\n",
    "mlp_model.compile(\n",
    "    optimizer=opt, loss='binary_crossentropy'\n",
    ")"
   ]
  },
  {
   "cell_type": "code",
   "execution_count": 314,
   "metadata": {},
   "outputs": [],
   "source": [
    "start_date='2000-01-31'\n",
    "end_date='2015-01-31'\n",
    "test_end_date='2018-02-28'\n",
    "\n",
    "mask_train=(df[['DATE']]>=start_date) & (df[['DATE']]<end_date)\n",
    "mask_test=(df[['DATE']]>=end_date) & (df[['DATE']]<test_end_date)"
   ]
  },
  {
   "cell_type": "code",
   "execution_count": 315,
   "metadata": {},
   "outputs": [],
   "source": [
    "x = df[c_t_cols].values"
   ]
  },
  {
   "cell_type": "code",
   "execution_count": 316,
   "metadata": {},
   "outputs": [],
   "source": [
    "y = df[Y].values[:,0]"
   ]
  },
  {
   "cell_type": "code",
   "execution_count": 317,
   "metadata": {},
   "outputs": [],
   "source": []
  },
  {
   "cell_type": "code",
   "execution_count": 318,
   "metadata": {},
   "outputs": [
    {
     "data": {
      "text/plain": [
       "(750149, 70)"
      ]
     },
     "execution_count": 318,
     "metadata": {},
     "output_type": "execute_result"
    }
   ],
   "source": [
    "x_train.shape"
   ]
  },
  {
   "cell_type": "code",
   "execution_count": 319,
   "metadata": {},
   "outputs": [
    {
     "data": {
      "text/plain": [
       "(123755, 70)"
      ]
     },
     "execution_count": 319,
     "metadata": {},
     "output_type": "execute_result"
    }
   ],
   "source": [
    "x_test.shape"
   ]
  },
  {
   "cell_type": "code",
   "execution_count": 320,
   "metadata": {},
   "outputs": [
    {
     "data": {
      "text/plain": [
       "(750149,)"
      ]
     },
     "execution_count": 320,
     "metadata": {},
     "output_type": "execute_result"
    }
   ],
   "source": [
    "y_train.shape"
   ]
  },
  {
   "cell_type": "code",
   "execution_count": 321,
   "metadata": {},
   "outputs": [
    {
     "data": {
      "text/plain": [
       "(123755,)"
      ]
     },
     "execution_count": 321,
     "metadata": {},
     "output_type": "execute_result"
    }
   ],
   "source": [
    "y_test.shape"
   ]
  },
  {
   "cell_type": "code",
   "execution_count": 322,
   "metadata": {},
   "outputs": [
    {
     "name": "stdout",
     "output_type": "stream",
     "text": [
      "WARNING:tensorflow:`epsilon` argument is deprecated and will be removed, use `min_delta` instead.\n",
      "Epoch 1/100\n",
      "1319/1319 [==============================] - 3s 2ms/step - loss: 0.7459 - val_loss: 0.7516\n",
      "Epoch 2/100\n",
      "1319/1319 [==============================] - 3s 2ms/step - loss: 0.7397 - val_loss: 0.6970\n",
      "Epoch 3/100\n",
      "1319/1319 [==============================] - 3s 2ms/step - loss: 0.7460 - val_loss: 0.7161\n",
      "Epoch 4/100\n",
      "1319/1319 [==============================] - 3s 2ms/step - loss: 0.7422 - val_loss: 0.7321\n",
      "Epoch 5/100\n",
      "1319/1319 [==============================] - 3s 2ms/step - loss: 0.7474 - val_loss: 0.7010\n",
      "Epoch 6/100\n",
      "1319/1319 [==============================] - 3s 2ms/step - loss: 0.7397 - val_loss: 0.7378\n",
      "Epoch 7/100\n",
      "1319/1319 [==============================] - 3s 2ms/step - loss: 0.7442 - val_loss: 0.7135\n",
      "Epoch 8/100\n",
      "1319/1319 [==============================] - 3s 2ms/step - loss: 0.7464 - val_loss: 0.7084\n",
      "Epoch 9/100\n",
      "1305/1319 [============================>.] - ETA: 0s - loss: 0.7446\n",
      "Epoch 00009: ReduceLROnPlateau reducing learning rate to 0.010000000149011612.\n",
      "1319/1319 [==============================] - 3s 2ms/step - loss: 0.7445 - val_loss: 0.7650\n",
      "Epoch 10/100\n",
      "1319/1319 [==============================] - 3s 2ms/step - loss: 0.6968 - val_loss: 0.6939\n",
      "Epoch 11/100\n",
      "1319/1319 [==============================] - 3s 2ms/step - loss: 0.6980 - val_loss: 0.6935\n",
      "Epoch 12/100\n",
      "1319/1319 [==============================] - 3s 2ms/step - loss: 0.6989 - val_loss: 0.6935\n",
      "Epoch 13/100\n",
      "1319/1319 [==============================] - 3s 2ms/step - loss: 0.6995 - val_loss: 0.6964\n",
      "Epoch 14/100\n",
      "1319/1319 [==============================] - 3s 2ms/step - loss: 0.6994 - val_loss: 0.6939\n",
      "Epoch 15/100\n",
      "1319/1319 [==============================] - 3s 2ms/step - loss: 0.6991 - val_loss: 0.6961\n",
      "Epoch 16/100\n",
      "1319/1319 [==============================] - 3s 2ms/step - loss: 0.6994 - val_loss: 0.6964\n",
      "Epoch 17/100\n",
      "1319/1319 [==============================] - 3s 2ms/step - loss: 0.6994 - val_loss: 0.6948\n",
      "Epoch 18/100\n",
      "1303/1319 [============================>.] - ETA: 0s - loss: 0.6993\n",
      "Epoch 00018: ReduceLROnPlateau reducing learning rate to 0.0009999999776482583.\n",
      "1319/1319 [==============================] - 3s 2ms/step - loss: 0.6993 - val_loss: 0.6952\n",
      "Epoch 19/100\n",
      "1319/1319 [==============================] - 3s 2ms/step - loss: 0.6931 - val_loss: 0.6928\n",
      "Epoch 20/100\n",
      "1319/1319 [==============================] - 3s 2ms/step - loss: 0.6931 - val_loss: 0.6927\n",
      "Epoch 21/100\n",
      "1319/1319 [==============================] - 3s 2ms/step - loss: 0.6931 - val_loss: 0.6929\n",
      "Epoch 22/100\n",
      "1319/1319 [==============================] - 3s 2ms/step - loss: 0.6931 - val_loss: 0.6932\n",
      "Epoch 23/100\n",
      "1319/1319 [==============================] - 3s 2ms/step - loss: 0.6931 - val_loss: 0.6931\n",
      "Epoch 24/100\n",
      "1319/1319 [==============================] - 3s 2ms/step - loss: 0.6931 - val_loss: 0.6933\n",
      "Epoch 25/100\n",
      "1319/1319 [==============================] - 3s 2ms/step - loss: 0.6931 - val_loss: 0.6926\n",
      "Epoch 26/100\n",
      "1319/1319 [==============================] - 3s 2ms/step - loss: 0.6931 - val_loss: 0.6928\n",
      "Epoch 27/100\n",
      "1319/1319 [==============================] - 3s 2ms/step - loss: 0.6931 - val_loss: 0.6927\n",
      "Epoch 28/100\n",
      "1319/1319 [==============================] - 3s 2ms/step - loss: 0.6931 - val_loss: 0.6927\n",
      "Epoch 29/100\n",
      "1319/1319 [==============================] - 3s 2ms/step - loss: 0.6930 - val_loss: 0.6931\n",
      "Epoch 30/100\n",
      "1319/1319 [==============================] - 3s 2ms/step - loss: 0.6931 - val_loss: 0.6926\n",
      "Epoch 31/100\n",
      "1319/1319 [==============================] - 3s 2ms/step - loss: 0.6931 - val_loss: 0.6937\n",
      "Epoch 32/100\n",
      "1307/1319 [============================>.] - ETA: 0s - loss: 0.6931\n",
      "Epoch 00032: ReduceLROnPlateau reducing learning rate to 9.999999310821295e-05.\n",
      "1319/1319 [==============================] - 3s 2ms/step - loss: 0.6931 - val_loss: 0.6926\n",
      "Epoch 33/100\n",
      "1319/1319 [==============================] - 3s 2ms/step - loss: 0.6924 - val_loss: 0.6926\n",
      "Epoch 34/100\n",
      "1319/1319 [==============================] - 3s 2ms/step - loss: 0.6923 - val_loss: 0.6925\n",
      "Epoch 35/100\n",
      "1319/1319 [==============================] - 3s 2ms/step - loss: 0.6923 - val_loss: 0.6927\n",
      "Epoch 36/100\n",
      "1319/1319 [==============================] - 3s 2ms/step - loss: 0.6923 - val_loss: 0.6925\n",
      "Epoch 37/100\n",
      "1319/1319 [==============================] - 3s 2ms/step - loss: 0.6923 - val_loss: 0.6926\n",
      "Epoch 38/100\n",
      "1319/1319 [==============================] - 3s 2ms/step - loss: 0.6923 - val_loss: 0.6925\n",
      "Epoch 39/100\n",
      "1319/1319 [==============================] - 3s 2ms/step - loss: 0.6923 - val_loss: 0.6925\n",
      "Epoch 40/100\n",
      "1319/1319 [==============================] - 3s 2ms/step - loss: 0.6923 - val_loss: 0.6926\n",
      "Epoch 41/100\n",
      "1296/1319 [============================>.] - ETA: 0s - loss: 0.6923\n",
      "Epoch 00041: ReduceLROnPlateau reducing learning rate to 9.999999019782991e-06.\n",
      "1319/1319 [==============================] - 3s 2ms/step - loss: 0.6923 - val_loss: 0.6925\n",
      "Epoch 42/100\n",
      "1319/1319 [==============================] - 3s 2ms/step - loss: 0.6923 - val_loss: 0.6925\n",
      "Epoch 43/100\n",
      "1319/1319 [==============================] - 3s 2ms/step - loss: 0.6923 - val_loss: 0.6925\n",
      "Epoch 44/100\n",
      "1319/1319 [==============================] - 3s 2ms/step - loss: 0.6922 - val_loss: 0.6925\n"
     ]
    }
   ],
   "source": [
    "earlyStopping = EarlyStopping(monitor='val_loss', patience=10, verbose=0, mode='min')\n",
    "mcp_save = ModelCheckpoint('.mdl_wts.hdf5', save_best_only=True, monitor='val_loss', mode='min')\n",
    "reduce_lr_loss = ReduceLROnPlateau(monitor='val_loss', factor=0.1, patience=7, verbose=1, epsilon=1e-4, mode='min')\n",
    "\n",
    "history_mlp=mlp_model.fit(\n",
    "    x=x_train, y=y_train, batch_size=512, epochs=100, verbose=1, \n",
    "    callbacks=[earlyStopping, mcp_save, reduce_lr_loss],\n",
    "    validation_split=0.1\n",
    ")"
   ]
  },
  {
   "cell_type": "code",
   "execution_count": 323,
   "metadata": {},
   "outputs": [
    {
     "data": {
      "text/plain": [
       "array([[0.5189425 ],\n",
       "       [0.5032705 ],\n",
       "       [0.51679724],\n",
       "       ...,\n",
       "       [0.52888227],\n",
       "       [0.50201875],\n",
       "       [0.51770175]], dtype=float32)"
      ]
     },
     "execution_count": 323,
     "metadata": {},
     "output_type": "execute_result"
    }
   ],
   "source": [
    "ynew=mlp_model.predict(x_test)\n",
    "ynew"
   ]
  },
  {
   "cell_type": "code",
   "execution_count": 324,
   "metadata": {},
   "outputs": [
    {
     "data": {
      "text/plain": [
       "<matplotlib.axes._subplots.AxesSubplot at 0x25c6c8b7608>"
      ]
     },
     "execution_count": 324,
     "metadata": {},
     "output_type": "execute_result"
    },
    {
     "data": {
      "image/png": "[encoded data removed]",
      "text/plain": [
       "<Figure size 432x288 with 1 Axes>"
      ]
     },
     "metadata": {
      "needs_background": "light"
     },
     "output_type": "display_data"
    }
   ],
   "source": [
    "pd.DataFrame(ynew).plot.hist()"
   ]
  },
  {
   "cell_type": "code",
   "execution_count": 325,
   "metadata": {},
   "outputs": [
    {
     "data": {
      "text/plain": [
       "0.005738671035661835"
      ]
     },
     "execution_count": 325,
     "metadata": {},
     "output_type": "execute_result"
    }
   ],
   "source": [
    "from sklearn.metrics import r2_score\n",
    "r2_score(y_test, ynew)"
   ]
  },
  {
   "cell_type": "code",
   "execution_count": null,
   "metadata": {},
   "outputs": [],
   "source": []
  },
  {
   "cell_type": "code",
   "execution_count": null,
   "metadata": {},
   "outputs": [],
   "source": []
  },
  {
   "cell_type": "code",
   "execution_count": null,
   "metadata": {},
   "outputs": [],
   "source": []
  },
  {
   "cell_type": "code",
   "execution_count": 275,
   "metadata": {},
   "outputs": [],
   "source": [
    "'''Model 3: LSTM + MLP'''\n",
    "time_series_inputs = Input(shape=(12,1))\n",
    "cross_sectional_inputs = Input(shape=(70,))\n",
    "\n",
    "h1_rets=LSTM(units=50, return_sequences=True)(time_series_inputs)\n",
    "time_series_output=LSTM(units=1, return_sequences=False)(h1_rets) \n",
    "\n",
    "combined_features = Concatenate()([cross_sectional_inputs, time_series_output])\n",
    "\n",
    "h1=Dense(200, activation='tanh')(combined_features)\n",
    "d1=Dropout(0.5)(h1)\n",
    "h2=Dense(200, activation='tanh')(d1)\n",
    "d2=Dropout(0.5)(h2)\n",
    "outputs=Dense(1, activation='sigmoid')(d2)\n",
    "\n",
    "model_hybrid=tf.keras.Model(inputs=[cross_sectional_inputs, time_series_inputs], outputs=outputs)\n",
    "\n",
    "opt=tf.keras.optimizers.Adam(\n",
    "    learning_rate=0.01,\n",
    ")\n",
    "model_hybrid.compile(\n",
    "    optimizer=opt, loss='binary_crossentropy'\n",
    ")\n"
   ]
  },
  {
   "cell_type": "code",
   "execution_count": 276,
   "metadata": {},
   "outputs": [
    {
     "name": "stdout",
     "output_type": "stream",
     "text": [
      "Model: \"functional_47\"\n",
      "__________________________________________________________________________________________________\n",
      "Layer (type)                    Output Shape         Param #     Connected to                     \n",
      "==================================================================================================\n",
      "input_28 (InputLayer)           [(None, 12, 1)]      0                                            \n",
      "__________________________________________________________________________________________________\n",
      "lstm_4 (LSTM)                   (None, 12, 50)       10400       input_28[0][0]                   \n",
      "__________________________________________________________________________________________________\n",
      "input_29 (InputLayer)           [(None, 70)]         0                                            \n",
      "__________________________________________________________________________________________________\n",
      "lstm_5 (LSTM)                   (None, 1)            208         lstm_4[0][0]                     \n",
      "__________________________________________________________________________________________________\n",
      "concatenate_2 (Concatenate)     (None, 71)           0           input_29[0][0]                   \n",
      "                                                                 lstm_5[0][0]                     \n",
      "__________________________________________________________________________________________________\n",
      "dense_96 (Dense)                (None, 200)          14400       concatenate_2[0][0]              \n",
      "__________________________________________________________________________________________________\n",
      "dropout_68 (Dropout)            (None, 200)          0           dense_96[0][0]                   \n",
      "__________________________________________________________________________________________________\n",
      "dense_97 (Dense)                (None, 200)          40200       dropout_68[0][0]                 \n",
      "__________________________________________________________________________________________________\n",
      "dropout_69 (Dropout)            (None, 200)          0           dense_97[0][0]                   \n",
      "__________________________________________________________________________________________________\n",
      "dense_98 (Dense)                (None, 1)            201         dropout_69[0][0]                 \n",
      "==================================================================================================\n",
      "Total params: 65,409\n",
      "Trainable params: 65,409\n",
      "Non-trainable params: 0\n",
      "__________________________________________________________________________________________________\n"
     ]
    }
   ],
   "source": [
    "model_hybrid.summary()"
   ]
  },
  {
   "cell_type": "code",
   "execution_count": 303,
   "metadata": {},
   "outputs": [],
   "source": [
    "start_date='2010-01-31'\n",
    "end_date='2018-01-31'\n",
    "test_end_date='2020-02-28'\n",
    "\n",
    "mask_train=(df[['DATE']]>=start_date) & (df[['DATE']]<end_date)\n",
    "mask_test=(df[['DATE']]>=end_date) & (df[['DATE']]<test_end_date)"
   ]
  },
  {
   "cell_type": "code",
   "execution_count": 304,
   "metadata": {},
   "outputs": [],
   "source": [
    "x = [df[c_t_cols],df[time_series_cols]]"
   ]
  },
  {
   "cell_type": "code",
   "execution_count": 305,
   "metadata": {},
   "outputs": [],
   "source": [
    "y = df[Y]"
   ]
  },
  {
   "cell_type": "code",
   "execution_count": 306,
   "metadata": {},
   "outputs": [],
   "source": [
    "x_train, x_test, y_train, y_test=[i.loc[mask_train['DATE'],:] for i in x], [i.loc[mask_test['DATE'],:] for i in x], y.loc[mask_train['DATE'],:], y.loc[mask_test['DATE'],:]"
   ]
  },
  {
   "cell_type": "code",
   "execution_count": 298,
   "metadata": {},
   "outputs": [
    {
     "name": "stdout",
     "output_type": "stream",
     "text": [
      "WARNING:tensorflow:`epsilon` argument is deprecated and will be removed, use `min_delta` instead.\n",
      "Epoch 1/100\n",
      "577/577 [==============================] - 4s 6ms/step - loss: 0.6928 - val_loss: 0.6923\n",
      "Epoch 2/100\n",
      "577/577 [==============================] - 4s 6ms/step - loss: 0.6923 - val_loss: 0.6921\n",
      "Epoch 3/100\n",
      "577/577 [==============================] - 4s 6ms/step - loss: 0.6922 - val_loss: 0.6921\n",
      "Epoch 4/100\n",
      "577/577 [==============================] - 4s 6ms/step - loss: 0.6922 - val_loss: 0.6921\n",
      "Epoch 5/100\n",
      "577/577 [==============================] - 4s 6ms/step - loss: 0.6922 - val_loss: 0.6921\n",
      "Epoch 6/100\n",
      "577/577 [==============================] - 4s 6ms/step - loss: 0.6922 - val_loss: 0.6920\n",
      "Epoch 7/100\n",
      "577/577 [==============================] - 4s 6ms/step - loss: 0.6922 - val_loss: 0.6920\n",
      "Epoch 8/100\n",
      "577/577 [==============================] - 4s 6ms/step - loss: 0.6922 - val_loss: 0.6921\n",
      "Epoch 9/100\n",
      "568/577 [============================>.] - ETA: 0s - loss: 0.6922\n",
      "Epoch 00009: ReduceLROnPlateau reducing learning rate to 9.99999883788405e-07.\n",
      "577/577 [==============================] - 4s 6ms/step - loss: 0.6922 - val_loss: 0.6920\n",
      "Epoch 10/100\n",
      "577/577 [==============================] - 4s 6ms/step - loss: 0.6922 - val_loss: 0.6920\n",
      "Epoch 11/100\n",
      "577/577 [==============================] - 4s 6ms/step - loss: 0.6922 - val_loss: 0.6920\n",
      "Epoch 12/100\n",
      "577/577 [==============================] - 3s 6ms/step - loss: 0.6921 - val_loss: 0.6920\n",
      "Epoch 13/100\n",
      "577/577 [==============================] - 4s 6ms/step - loss: 0.6921 - val_loss: 0.6920\n",
      "Epoch 14/100\n",
      "577/577 [==============================] - 4s 6ms/step - loss: 0.6922 - val_loss: 0.6920\n",
      "Epoch 15/100\n",
      "577/577 [==============================] - 4s 6ms/step - loss: 0.6922 - val_loss: 0.6920\n",
      "Epoch 16/100\n",
      "576/577 [============================>.] - ETA: 0s - loss: 0.6921\n",
      "Epoch 00016: ReduceLROnPlateau reducing learning rate to 9.99999883788405e-08.\n",
      "577/577 [==============================] - 4s 6ms/step - loss: 0.6921 - val_loss: 0.6920\n",
      "Epoch 17/100\n",
      "577/577 [==============================] - 4s 6ms/step - loss: 0.6922 - val_loss: 0.6920\n",
      "Epoch 18/100\n",
      "577/577 [==============================] - 4s 6ms/step - loss: 0.6921 - val_loss: 0.6920\n",
      "Epoch 19/100\n",
      "577/577 [==============================] - 4s 6ms/step - loss: 0.6921 - val_loss: 0.6920\n"
     ]
    }
   ],
   "source": [
    "earlyStopping = EarlyStopping(monitor='val_loss', patience=10, verbose=0, mode='min')\n",
    "mcp_save = ModelCheckpoint('.mdl_wts.hdf5', save_best_only=True, monitor='val_loss', mode='min')\n",
    "reduce_lr_loss = ReduceLROnPlateau(monitor='val_loss', factor=0.1, patience=7, verbose=1, epsilon=1e-4, mode='min')\n",
    "\n",
    "history_hybrid=model_hybrid.fit(\n",
    "    x=x_train, y=y_train, batch_size=512, epochs=100, verbose=1, \n",
    "    callbacks=[earlyStopping, mcp_save, reduce_lr_loss],\n",
    "    validation_split=0.1\n",
    ")"
   ]
  },
  {
   "cell_type": "code",
   "execution_count": null,
   "metadata": {},
   "outputs": [],
   "source": []
  },
  {
   "cell_type": "code",
   "execution_count": 307,
   "metadata": {},
   "outputs": [
    {
     "data": {
      "text/plain": [
       "array([[0.5294947 ],\n",
       "       [0.48543635],\n",
       "       [0.4959295 ],\n",
       "       ...,\n",
       "       [0.5337629 ],\n",
       "       [0.5108278 ],\n",
       "       [0.48085326]], dtype=float32)"
      ]
     },
     "execution_count": 307,
     "metadata": {},
     "output_type": "execute_result"
    }
   ],
   "source": [
    "ynew=model_hybrid.predict(x_test)\n",
    "ynew"
   ]
  },
  {
   "cell_type": "code",
   "execution_count": 308,
   "metadata": {},
   "outputs": [
    {
     "data": {
      "text/plain": [
       "<matplotlib.axes._subplots.AxesSubplot at 0x25c6d908b48>"
      ]
     },
     "execution_count": 308,
     "metadata": {},
     "output_type": "execute_result"
    },
    {
     "data": {
      "image/png": "[encoded data removed]",
      "text/plain": [
       "<Figure size 432x288 with 1 Axes>"
      ]
     },
     "metadata": {
      "needs_background": "light"
     },
     "output_type": "display_data"
    }
   ],
   "source": [
    "pd.DataFrame(ynew).plot.hist()"
   ]
  },
  {
   "cell_type": "code",
   "execution_count": 309,
   "metadata": {},
   "outputs": [
    {
     "data": {
      "text/plain": [
       "0.006555760396898314"
      ]
     },
     "execution_count": 309,
     "metadata": {},
     "output_type": "execute_result"
    }
   ],
   "source": [
    "from sklearn.metrics import r2_score\n",
    "r2_score(y_test, ynew)"
   ]
  },
  {
   "cell_type": "code",
   "execution_count": 331,
   "metadata": {},
   "outputs": [
    {
     "data": {
      "text/plain": [
       "<matplotlib.axes._subplots.AxesSubplot at 0x25b43b351c8>"
      ]
     },
     "execution_count": 331,
     "metadata": {},
     "output_type": "execute_result"
    },
    {
     "data": {
      "image/png": "[encoded data removed]",
      "text/plain": [
       "<Figure size 432x288 with 1 Axes>"
      ]
     },
     "metadata": {
      "needs_background": "light"
     },
     "output_type": "display_data"
    }
   ],
   "source": [
    "pd.DataFrame([y_test,ynew]).T.plot.scatter(x=0,y=1)"
   ]
  },
  {
   "cell_type": "code",
   "execution_count": null,
   "metadata": {},
   "outputs": [],
   "source": []
  },
  {
   "cell_type": "code",
   "execution_count": null,
   "metadata": {},
   "outputs": [],
   "source": []
  }
 ],
 "metadata": {
  "kernelspec": {
   "display_name": "Python 3",
   "language": "python",
   "name": "python3"
  },
  "language_info": {
   "codemirror_mode": {
    "name": "ipython",
    "version": 3
   },
   "file_extension": ".py",
   "mimetype": "text/x-python",
   "name": "python",
   "nbconvert_exporter": "python",
   "pygments_lexer": "ipython3",
   "version": "3.7.7"
  }
 },
 "nbformat": 4,
 "nbformat_minor": 4
}
